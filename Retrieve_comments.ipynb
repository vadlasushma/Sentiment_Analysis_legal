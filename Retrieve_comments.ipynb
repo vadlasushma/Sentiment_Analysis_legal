{
  "nbformat": 4,
  "nbformat_minor": 0,
  "metadata": {
    "colab": {
      "name": "Retrieve-comments.ipynb",
      "provenance": [],
      "collapsed_sections": [],
      "include_colab_link": true
    },
    "kernelspec": {
      "name": "python3",
      "display_name": "Python 3"
    },
    "language_info": {
      "name": "python"
    }
  },
  "cells": [
    {
      "cell_type": "markdown",
      "metadata": {
        "id": "view-in-github",
        "colab_type": "text"
      },
      "source": [
        "<a href=\"https://colab.research.google.com/github/vadlasushma/Sentiment_Analysis_legal/blob/main/Retrieve_comments.ipynb\" target=\"_parent\"><img src=\"https://colab.research.google.com/assets/colab-badge.svg\" alt=\"Open In Colab\"/></a>"
      ]
    },
    {
      "cell_type": "code",
      "metadata": {
        "id": "1ZqBbe_BOkzk"
      },
      "source": [
        "#get object id's of documents in the docket\n",
        "def get_doc_id(DEMO_KEY,docketId) :\n",
        "  response_API = requests.get('https://api.regulations.gov/v4/documents?filter[docketId]='+docketId+'&api_key=DEMO_KEY')\n",
        "  #print(response_API.status_code)\n",
        "  comment_single = response_API.text\n",
        "  parse_comments = json.loads(comment_single)\n",
        "  print(\"The list of documents in docket\",comment_single )\n",
        "  #get the objectID of documents\n",
        "  objIds=[]\n",
        "  for i in range(len(parse_comments)) :\n",
        "    objIds.append(parse_comments['data'][i]['attributes']['objectId'])\n",
        "  print('ObjectIDs',objIds)\n",
        "  return objIds"
      ],
      "execution_count": 70,
      "outputs": []
    },
    {
      "cell_type": "code",
      "metadata": {
        "id": "1YIzW2rUO9rI"
      },
      "source": [
        "#links for comments of document 1\n",
        "def get_comment_links(DEMO_KEY,objIds,links) :\n",
        "  page_size = 250\n",
        "  comment_onID = objIds\n",
        "  for i in range(1,20):\n",
        "    path = 'https://api.regulations.gov/v4/comments?filter[commentOnId]={}&page[size]={}&page[number]={}&sort=lastModifiedDate,documentId&api_key={}'.format (comment_onID, page_size, i, DEMO_KEY )\n",
        "    response_API = requests.get(path)\n",
        "    all_comments = response_API.text\n",
        "    parse_comments = json.loads(all_comments)\n",
        "    x = response_API.headers[\"X-RateLimit-Remaining\"]\n",
        "    if (x!='0') :\n",
        "      print(\"Retrieved links for page {} is {}\".format(i,len(parse_comments['data'])))\n",
        "      for j in range(len(parse_comments['data'])-1) :\n",
        "        try:\n",
        "          links.append(parse_comments['data'][j]['links']['self'])\n",
        "        except:\n",
        "          print (j)\n",
        "    else : \n",
        "      return 0\n",
        "            \n",
        "  return links"
      ],
      "execution_count": 71,
      "outputs": []
    },
    {
      "cell_type": "code",
      "metadata": {
        "id": "fzpdlMutP9Ks"
      },
      "source": [
        "#each comment data\n",
        "def get_comment_texts(DEMO_KEY,links) :\n",
        "  str1 = '?api_key='+DEMO_KEY\n",
        "  texts = []\n",
        "  count = 0\n",
        "  for i in links :\n",
        "    temp = []\n",
        "    count=count+1\n",
        "    str2=i+str1\n",
        "    response_API = requests.get(str2)\n",
        "    comment_single = response_API.text\n",
        "    comments_parse = json.loads(comment_single)\n",
        "    x = response_API.headers[\"X-RateLimit-Remaining\"]\n",
        "    if (x!='0') :\n",
        "      print(count)\n",
        "      temp.append(comments_parse['data']['attributes']['docketId'])\n",
        "      temp.append(comments_parse['data']['attributes']['documentType'])\n",
        "      temp.append(comments_parse['data']['attributes']['govAgency'])\n",
        "      temp.append(comments_parse['data']['attributes']['firstName'])\n",
        "      temp.append(comments_parse['data']['attributes']['lastName'])\n",
        "      temp.append(comments_parse['data']['attributes']['organization'])\n",
        "      temp.append(comments_parse['data']['attributes']['comment'])\n",
        "      texts.append(temp)\n",
        "    else :\n",
        "      print('Limit exceeded')\n",
        "      print('# of comments retrieved is', count-1)\n",
        "      break\n",
        "  return texts"
      ],
      "execution_count": 72,
      "outputs": []
    },
    {
      "cell_type": "code",
      "metadata": {
        "id": "Hf_CN0NmzdaW"
      },
      "source": [
        "#main\n",
        "import requests\n",
        "import json\n",
        "import pandas as pd\n",
        "DEMO_KEY=\"EzpoTEvbrW48r9dT952ItW0SGwptBe8BR0yBKlIe\"\n",
        "# DEMO_KEY = \"qFXZRLl65B5F4w8b5potNh6llprE7YEQZkncFn2x\"\n",
        "docketId = 'ATF-2021-0001'\n",
        "#obj id's of document\n",
        "objIds = get_doc_id(DEMO_KEY,docketId)\n",
        "links = []\n",
        "#get comment links using each obj id of docs\n",
        "for i in range(len(objIds)) :\n",
        "  temp = []\n",
        "  a = get_comment_links(DEMO_KEY,objIds[i],temp)\n",
        "  if(a==0) :\n",
        "    print('Limit exceeded')\n",
        "  else :\n",
        "    links.append(a)  \n",
        "all_text = []  \n",
        "#get comment texts using comment links\n",
        "for i in range(len(links)) :  \n",
        "  all_text.append(get_comment_texts(DEMO_KEY,links[i]))\n",
        "# write the text to file  \n",
        "for i in range(len(all_text)) :\n",
        "  df1=pd.DataFrame(all_text[i], columns = ['docketId','documentType','govAgency','firstName','lastName','organization','Comment'])\n",
        "  with open(r'./retrieved_comments'+str(i)+'.csv', 'w') as file:\n",
        "    print('Writing to file')\n",
        "    df1.to_csv(file)\n",
        "\n",
        "\n",
        "\n"
      ],
      "execution_count": null,
      "outputs": []
    },
    {
      "cell_type": "code",
      "metadata": {
        "id": "6dIlimDWjXgi"
      },
      "source": [
        ""
      ],
      "execution_count": null,
      "outputs": []
    }
  ]
}